{
  "nbformat": 4,
  "nbformat_minor": 0,
  "metadata": {
    "colab": {
      "name": "WEEK 1 WELCOME TO COLAB",
      "provenance": [],
      "collapsed_sections": [],
      "toc_visible": true,
      "include_colab_link": true
    },
    "kernelspec": {
      "display_name": "Python 3",
      "name": "python3"
    }
  },
  "cells": [
    {
      "cell_type": "markdown",
      "metadata": {
        "id": "view-in-github",
        "colab_type": "text"
      },
      "source": [
        "<a href=\"https://colab.research.google.com/github/FlemingJoeNovak/COMP-593-2021/blob/week%2Fone-intro/WEEK_1_WELCOME_TO_COLAB.ipynb\" target=\"_parent\"><img src=\"https://colab.research.google.com/assets/colab-badge.svg\" alt=\"Open In Colab\"/></a>"
      ]
    },
    {
      "cell_type": "markdown",
      "metadata": {
        "id": "GJBs_flRovLc"
      },
      "source": [
        "## **Welcome to COMP 593!**\n",
        "\n",
        "For your first lab, we will experiment with running a script, and saving our project to our personal github repositories:"
      ]
    },
    {
      "cell_type": "markdown",
      "metadata": {
        "id": "xn279PBwVnDj"
      },
      "source": [
        "##Installing Dependancies##\r\n",
        "\r\n",
        "Dependancies are routines, Objects, and methods that a project requires. We add Dependancies to our project in the form of **Libraries** when we want to unlock functionality that already exists, this could be as simple as file IO or as complex as fully fledged Machine Learning libraries. Libraries can be added to our project manually, by downloading them and placing them in our runtime enviornment, or using a **Package Manager** such as PIP."
      ]
    },
    {
      "cell_type": "markdown",
      "metadata": {
        "id": "-IWb3REjW5T0"
      },
      "source": [
        "Run the below code to download the **pyfiglet** library, which we will use to generate some ASCII art."
      ]
    },
    {
      "cell_type": "code",
      "metadata": {
        "id": "ARUZhh6MS7nA",
        "colab": {
          "base_uri": "https://localhost:8080/"
        },
        "outputId": "f7e5b640-8523-4d82-bae5-f0bd1e0026a3"
      },
      "source": [
        "pip install pyfiglet\r\n"
      ],
      "execution_count": null,
      "outputs": [
        {
          "output_type": "stream",
          "text": [
            "Collecting pyfiglet\n",
            "\u001b[?25l  Downloading https://files.pythonhosted.org/packages/33/07/fcfdd7a2872f5b348953de35acce1544dab0c1e8368dca54279b1cde5c15/pyfiglet-0.8.post1-py2.py3-none-any.whl (865kB)\n",
            "\r\u001b[K     |▍                               | 10kB 14.6MB/s eta 0:00:01\r\u001b[K     |▊                               | 20kB 13.9MB/s eta 0:00:01\r\u001b[K     |█▏                              | 30kB 8.0MB/s eta 0:00:01\r\u001b[K     |█▌                              | 40kB 3.8MB/s eta 0:00:01\r\u001b[K     |██                              | 51kB 4.7MB/s eta 0:00:01\r\u001b[K     |██▎                             | 61kB 5.3MB/s eta 0:00:01\r\u001b[K     |██▋                             | 71kB 5.5MB/s eta 0:00:01\r\u001b[K     |███                             | 81kB 5.8MB/s eta 0:00:01\r\u001b[K     |███▍                            | 92kB 5.9MB/s eta 0:00:01\r\u001b[K     |███▉                            | 102kB 6.3MB/s eta 0:00:01\r\u001b[K     |████▏                           | 112kB 6.3MB/s eta 0:00:01\r\u001b[K     |████▌                           | 122kB 6.3MB/s eta 0:00:01\r\u001b[K     |█████                           | 133kB 6.3MB/s eta 0:00:01\r\u001b[K     |█████▎                          | 143kB 6.3MB/s eta 0:00:01\r\u001b[K     |█████▊                          | 153kB 6.3MB/s eta 0:00:01\r\u001b[K     |██████                          | 163kB 6.3MB/s eta 0:00:01\r\u001b[K     |██████▍                         | 174kB 6.3MB/s eta 0:00:01\r\u001b[K     |██████▉                         | 184kB 6.3MB/s eta 0:00:01\r\u001b[K     |███████▏                        | 194kB 6.3MB/s eta 0:00:01\r\u001b[K     |███████▋                        | 204kB 6.3MB/s eta 0:00:01\r\u001b[K     |████████                        | 215kB 6.3MB/s eta 0:00:01\r\u001b[K     |████████▎                       | 225kB 6.3MB/s eta 0:00:01\r\u001b[K     |████████▊                       | 235kB 6.3MB/s eta 0:00:01\r\u001b[K     |█████████                       | 245kB 6.3MB/s eta 0:00:01\r\u001b[K     |█████████▌                      | 256kB 6.3MB/s eta 0:00:01\r\u001b[K     |█████████▉                      | 266kB 6.3MB/s eta 0:00:01\r\u001b[K     |██████████▏                     | 276kB 6.3MB/s eta 0:00:01\r\u001b[K     |██████████▋                     | 286kB 6.3MB/s eta 0:00:01\r\u001b[K     |███████████                     | 296kB 6.3MB/s eta 0:00:01\r\u001b[K     |███████████▍                    | 307kB 6.3MB/s eta 0:00:01\r\u001b[K     |███████████▊                    | 317kB 6.3MB/s eta 0:00:01\r\u001b[K     |████████████                    | 327kB 6.3MB/s eta 0:00:01\r\u001b[K     |████████████▌                   | 337kB 6.3MB/s eta 0:00:01\r\u001b[K     |████████████▉                   | 348kB 6.3MB/s eta 0:00:01\r\u001b[K     |█████████████▎                  | 358kB 6.3MB/s eta 0:00:01\r\u001b[K     |█████████████▋                  | 368kB 6.3MB/s eta 0:00:01\r\u001b[K     |██████████████                  | 378kB 6.3MB/s eta 0:00:01\r\u001b[K     |██████████████▍                 | 389kB 6.3MB/s eta 0:00:01\r\u001b[K     |██████████████▊                 | 399kB 6.3MB/s eta 0:00:01\r\u001b[K     |███████████████▏                | 409kB 6.3MB/s eta 0:00:01\r\u001b[K     |███████████████▌                | 419kB 6.3MB/s eta 0:00:01\r\u001b[K     |████████████████                | 430kB 6.3MB/s eta 0:00:01\r\u001b[K     |████████████████▎               | 440kB 6.3MB/s eta 0:00:01\r\u001b[K     |████████████████▋               | 450kB 6.3MB/s eta 0:00:01\r\u001b[K     |█████████████████               | 460kB 6.3MB/s eta 0:00:01\r\u001b[K     |█████████████████▍              | 471kB 6.3MB/s eta 0:00:01\r\u001b[K     |█████████████████▉              | 481kB 6.3MB/s eta 0:00:01\r\u001b[K     |██████████████████▏             | 491kB 6.3MB/s eta 0:00:01\r\u001b[K     |██████████████████▌             | 501kB 6.3MB/s eta 0:00:01\r\u001b[K     |███████████████████             | 512kB 6.3MB/s eta 0:00:01\r\u001b[K     |███████████████████▎            | 522kB 6.3MB/s eta 0:00:01\r\u001b[K     |███████████████████▊            | 532kB 6.3MB/s eta 0:00:01\r\u001b[K     |████████████████████            | 542kB 6.3MB/s eta 0:00:01\r\u001b[K     |████████████████████▍           | 552kB 6.3MB/s eta 0:00:01\r\u001b[K     |████████████████████▉           | 563kB 6.3MB/s eta 0:00:01\r\u001b[K     |█████████████████████▏          | 573kB 6.3MB/s eta 0:00:01\r\u001b[K     |█████████████████████▋          | 583kB 6.3MB/s eta 0:00:01\r\u001b[K     |██████████████████████          | 593kB 6.3MB/s eta 0:00:01\r\u001b[K     |██████████████████████▎         | 604kB 6.3MB/s eta 0:00:01\r\u001b[K     |██████████████████████▊         | 614kB 6.3MB/s eta 0:00:01\r\u001b[K     |███████████████████████         | 624kB 6.3MB/s eta 0:00:01\r\u001b[K     |███████████████████████▌        | 634kB 6.3MB/s eta 0:00:01\r\u001b[K     |███████████████████████▉        | 645kB 6.3MB/s eta 0:00:01\r\u001b[K     |████████████████████████▏       | 655kB 6.3MB/s eta 0:00:01\r\u001b[K     |████████████████████████▋       | 665kB 6.3MB/s eta 0:00:01\r\u001b[K     |█████████████████████████       | 675kB 6.3MB/s eta 0:00:01\r\u001b[K     |█████████████████████████▍      | 686kB 6.3MB/s eta 0:00:01\r\u001b[K     |█████████████████████████▊      | 696kB 6.3MB/s eta 0:00:01\r\u001b[K     |██████████████████████████▏     | 706kB 6.3MB/s eta 0:00:01\r\u001b[K     |██████████████████████████▌     | 716kB 6.3MB/s eta 0:00:01\r\u001b[K     |██████████████████████████▉     | 727kB 6.3MB/s eta 0:00:01\r\u001b[K     |███████████████████████████▎    | 737kB 6.3MB/s eta 0:00:01\r\u001b[K     |███████████████████████████▋    | 747kB 6.3MB/s eta 0:00:01\r\u001b[K     |████████████████████████████    | 757kB 6.3MB/s eta 0:00:01\r\u001b[K     |████████████████████████████▍   | 768kB 6.3MB/s eta 0:00:01\r\u001b[K     |████████████████████████████▊   | 778kB 6.3MB/s eta 0:00:01\r\u001b[K     |█████████████████████████████▏  | 788kB 6.3MB/s eta 0:00:01\r\u001b[K     |█████████████████████████████▌  | 798kB 6.3MB/s eta 0:00:01\r\u001b[K     |██████████████████████████████  | 808kB 6.3MB/s eta 0:00:01\r\u001b[K     |██████████████████████████████▎ | 819kB 6.3MB/s eta 0:00:01\r\u001b[K     |██████████████████████████████▋ | 829kB 6.3MB/s eta 0:00:01\r\u001b[K     |███████████████████████████████ | 839kB 6.3MB/s eta 0:00:01\r\u001b[K     |███████████████████████████████▍| 849kB 6.3MB/s eta 0:00:01\r\u001b[K     |███████████████████████████████▉| 860kB 6.3MB/s eta 0:00:01\r\u001b[K     |████████████████████████████████| 870kB 6.3MB/s \n",
            "\u001b[?25hInstalling collected packages: pyfiglet\n",
            "Successfully installed pyfiglet-0.8.post1\n"
          ],
          "name": "stdout"
        }
      ]
    },
    {
      "cell_type": "markdown",
      "metadata": {
        "id": "SNXKhb5XXqF4"
      },
      "source": [
        "There are *hundreds of thousands* of python libraries at your disposal. Some may suit your needs better than others depending on the goals of your scripts or applications. The [PyPi Repository](https://https://pypi.org/) contains a serchable database of packages that are installable via the pip package manager.\r\n",
        "\r\n",
        "Run the code below to get an idea of the number of packages that are included for your user within Colab. You don't need to know what all of these do, but it should indicate that python is a very powerful language."
      ]
    },
    {
      "cell_type": "code",
      "metadata": {
        "id": "C7A8viiJXiDs"
      },
      "source": [
        "pip list"
      ],
      "execution_count": null,
      "outputs": []
    },
    {
      "cell_type": "markdown",
      "metadata": {
        "id": "zopYZ3PcY6hR"
      },
      "source": [
        "If you would like to see if pyfiglet was installed, you could scan the list above, or you could **pipe** the output of `pip list` to a console command known as `grep` that will filter for specific strings. This is an example of **redirecting output,** which we will learn about in later weeks."
      ]
    },
    {
      "cell_type": "code",
      "metadata": {
        "id": "oAMcMjbLZMIE"
      },
      "source": [
        "pip list | grep pyfiglet "
      ],
      "execution_count": null,
      "outputs": []
    },
    {
      "cell_type": "markdown",
      "metadata": {
        "id": "mZcx5TRQcjaT"
      },
      "source": [
        "# Writing Our Script"
      ]
    },
    {
      "cell_type": "code",
      "metadata": {
        "colab": {
          "base_uri": "https://localhost:8080/"
        },
        "id": "hHzXi59GcpM2",
        "outputId": "66b9a9fc-6c46-4db4-8a42-f51c20c762e7"
      },
      "source": [
        "import pyfiglet\r\n",
        "\r\n",
        "ascii_banner = pyfiglet.figlet_format(\"Hello World!\")\r\n",
        "print(ascii_banner)\r\n"
      ],
      "execution_count": 6,
      "outputs": [
        {
          "output_type": "stream",
          "text": [
            " _   _      _ _        __        __         _     _ _ \n",
            "| | | | ___| | | ___   \\ \\      / /__  _ __| | __| | |\n",
            "| |_| |/ _ \\ | |/ _ \\   \\ \\ /\\ / / _ \\| '__| |/ _` | |\n",
            "|  _  |  __/ | | (_) |   \\ V  V / (_) | |  | | (_| |_|\n",
            "|_| |_|\\___|_|_|\\___/     \\_/\\_/ \\___/|_|  |_|\\__,_(_)\n",
            "                                                      \n",
            "\n"
          ],
          "name": "stdout"
        }
      ]
    }
  ]
}