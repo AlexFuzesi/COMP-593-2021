{
  "nbformat": 4,
  "nbformat_minor": 0,
  "metadata": {
    "colab": {
      "name": "WEEK 1 WELCOME TO COLAB",
      "provenance": [],
      "collapsed_sections": [],
      "toc_visible": true,
      "include_colab_link": true
    },
    "kernelspec": {
      "display_name": "Python 3",
      "name": "python3"
    }
  },
  "cells": [
    {
      "cell_type": "markdown",
      "metadata": {
        "id": "view-in-github",
        "colab_type": "text"
      },
      "source": [
        "<a href=\"https://colab.research.google.com/github/FlemingJoeNovak/COMP-593-2021/blob/week%2Fone-intro/WEEK_1_WELCOME_TO_COLAB.ipynb\" target=\"_parent\"><img src=\"https://colab.research.google.com/assets/colab-badge.svg\" alt=\"Open In Colab\"/></a>"
      ]
    },
    {
      "cell_type": "markdown",
      "metadata": {
        "id": "GJBs_flRovLc"
      },
      "source": [
        "## **Welcome to COMP 593!**\n",
        "\n",
        "For your first lab, we will experiment with running a script, and saving our project to our personal github repositories:"
      ]
    },
    {
      "cell_type": "markdown",
      "metadata": {
        "id": "xn279PBwVnDj"
      },
      "source": [
        "##Installing Dependancies##\r\n",
        "\r\n",
        "Dependancies are routines, Objects, and methods that a project requires. We add Dependancies to our project in the form of **Libraries** when we want to unlock functionality that already exists, this could be as simple as file IO or as complex as fully fledged Machine Learning libraries. Libraries can be added to our project manually, by downloading them and placing them in our runtime enviornment, or using a **Package Manager** such as PIP."
      ]
    },
    {
      "cell_type": "markdown",
      "metadata": {
        "id": "-IWb3REjW5T0"
      },
      "source": [
        "Run the below code to download the **pyfiglet** library, which we will use to generate some ASCII art."
      ]
    },
    {
      "cell_type": "code",
      "metadata": {
        "id": "ARUZhh6MS7nA"
      },
      "source": [
        "pip install pyfiglet\r\n"
      ],
      "execution_count": null,
      "outputs": []
    },
    {
      "cell_type": "markdown",
      "metadata": {
        "id": "SNXKhb5XXqF4"
      },
      "source": [
        "There are *hundreds of thousands* of python libraries at your disposal. Some may suit your needs better than others depending on the goals of your scripts or applications. The [PyPi Repository](https://https://pypi.org/) contains a serchable database of packages that are installable via the pip package manager.\r\n",
        "\r\n",
        "Run the code below to get an idea of the number of packages that are included for your user within Colab. You don't need to know what all of these do, but it should indicate that python is a very powerful language."
      ]
    },
    {
      "cell_type": "code",
      "metadata": {
        "id": "C7A8viiJXiDs"
      },
      "source": [
        "pip list"
      ],
      "execution_count": null,
      "outputs": []
    },
    {
      "cell_type": "markdown",
      "metadata": {
        "id": "zopYZ3PcY6hR"
      },
      "source": [
        "If you would like to see if pyfiglet was installed, you could scan the list above, or you could **pipe** the output of `pip list` to a console command known as `grep` that will filter for specific strings. This is an example of **redirecting output,** which we will learn about in later weeks."
      ]
    },
    {
      "cell_type": "code",
      "metadata": {
        "id": "oAMcMjbLZMIE"
      },
      "source": [
        "pip list | grep pyfiglet "
      ],
      "execution_count": null,
      "outputs": []
    },
    {
      "cell_type": "markdown",
      "metadata": {
        "id": "mZcx5TRQcjaT"
      },
      "source": [
        "# Writing Our Script"
      ]
    },
    {
      "cell_type": "code",
      "metadata": {
        "id": "hHzXi59GcpM2"
      },
      "source": [
        "import pyfiglet\r\n",
        "\r\n",
        "ascii_banner = pyfiglet.figlet_format(\"Hello World!\")\r\n",
        "print(ascii_banner)\r\n"
      ],
      "execution_count": null,
      "outputs": []
    }
  ]
}